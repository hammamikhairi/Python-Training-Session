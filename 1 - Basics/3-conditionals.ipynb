{
 "cells": [
  {
   "cell_type": "markdown",
   "metadata": {},
   "source": [
    "# Conditionals"
   ]
  },
  {
   "cell_type": "markdown",
   "metadata": {},
   "source": [
    "**Conditionals** are a code structure that help you control whether a certain block of code executes.\n",
    "\n",
    "1. `if`\n",
    "2. `elif` ('else if')\n",
    "3. `else`"
   ]
  },
  {
   "cell_type": "markdown",
   "metadata": {},
   "source": [
    "##  `if` statements"
   ]
  },
  {
   "cell_type": "markdown",
   "metadata": {},
   "source": [
    "The general syntax for a conditional `if` statments:\n",
    "\n",
    "```python\n",
    "if condition:\n",
    "    # execute this code\n",
    "```"
   ]
  },
  {
   "cell_type": "code",
   "execution_count": 2,
   "metadata": {},
   "outputs": [
    {
     "name": "stdout",
     "output_type": "stream",
     "text": [
      "bye\n"
     ]
    }
   ],
   "source": [
    "condition = False\n",
    "\n",
    "if condition:\n",
    "  print(\"hello world\")\n",
    "\n",
    "print(\"bye\")\n"
   ]
  },
  {
   "cell_type": "markdown",
   "metadata": {},
   "source": [
    "## `else` statements"
   ]
  },
  {
   "cell_type": "markdown",
   "metadata": {},
   "source": [
    "The general syntax for a conditional `if` with an `else` statment:\n",
    "\n",
    "```python\n",
    "if condition:\n",
    "    # execute this code\n",
    "else :\n",
    "    # execute this code\n",
    "```"
   ]
  },
  {
   "cell_type": "code",
   "execution_count": 4,
   "metadata": {},
   "outputs": [
    {
     "name": "stdout",
     "output_type": "stream",
     "text": [
      "you're not a minor\n"
     ]
    }
   ],
   "source": [
    "age = 18\n",
    "\n",
    "if age >= 18:\n",
    "  print(\"you're not a minor\")\n",
    "else :\n",
    "  print(\"you're a minor\")"
   ]
  },
  {
   "cell_type": "markdown",
   "metadata": {},
   "source": [
    "## `elif` statements"
   ]
  },
  {
   "cell_type": "markdown",
   "metadata": {},
   "source": [
    "The general syntax for a conditional `if` with an `elif` statment:\n",
    "\n",
    "```python\n",
    "if condition_1:\n",
    "    # execute this code\n",
    "elif condition_2  :\n",
    "    # execute this code\n",
    "```"
   ]
  },
  {
   "cell_type": "code",
   "execution_count": 6,
   "metadata": {},
   "outputs": [
    {
     "name": "stdout",
     "output_type": "stream",
     "text": [
      "i can afford it\n"
     ]
    }
   ],
   "source": [
    "price = 4999\n",
    "\n",
    "if price > 5000:\n",
    "  print(\"too expensive for me!\")\n",
    "if price == 5000:\n",
    "  print(\"i wont have any money after this.\")\n",
    "else : \n",
    "  print(\"i can afford it\")"
   ]
  },
  {
   "cell_type": "markdown",
   "metadata": {},
   "source": [
    "## The Ternary Operator"
   ]
  },
  {
   "cell_type": "markdown",
   "metadata": {},
   "source": [
    "The ternary operator is a way of writing conditional statements in Python.\n",
    "\n",
    "```python\n",
    "value_1 if condition else value_2\n",
    "```"
   ]
  },
  {
   "cell_type": "code",
   "execution_count": null,
   "metadata": {},
   "outputs": [],
   "source": [
    "var = None\n",
    "value_1 = 20\n",
    "value_2 = 30\n",
    "\n",
    "if condition:\n",
    "  var = value_1\n",
    "else:\n",
    "  var = value_2\n",
    "\n",
    "var = value_1 if condition else value_2"
   ]
  }
 ],
 "metadata": {
  "kernelspec": {
   "display_name": "Python 3.8.10 64-bit",
   "language": "python",
   "name": "python3"
  },
  "language_info": {
   "codemirror_mode": {
    "name": "ipython",
    "version": 3
   },
   "file_extension": ".py",
   "mimetype": "text/x-python",
   "name": "python",
   "nbconvert_exporter": "python",
   "pygments_lexer": "ipython3",
   "version": "3.8.10"
  },
  "orig_nbformat": 4,
  "vscode": {
   "interpreter": {
    "hash": "e7370f93d1d0cde622a1f8e1c04877d8463912d04d973331ad4851f04de6915a"
   }
  }
 },
 "nbformat": 4,
 "nbformat_minor": 2
}
