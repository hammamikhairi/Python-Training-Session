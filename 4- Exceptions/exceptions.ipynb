{
 "cells": [
  {
   "cell_type": "markdown",
   "metadata": {},
   "source": [
    "## Errors"
   ]
  },
  {
   "cell_type": "markdown",
   "metadata": {},
   "source": [
    "Errors are enountered when the code you've tried to execute is unable to run. These interruptions can occur for a number of different reasons. We'll explore each of these now."
   ]
  },
  {
   "cell_type": "markdown",
   "metadata": {},
   "source": [
    "### Syntax Errors\n",
    "\n",
    "Syntax errors occur when the code you've written fails to follow the rules of Python. It will fail under any and all circumstances. These include `SyntaxErrors` and `IndentationErrors`."
   ]
  },
  {
   "cell_type": "code",
   "execution_count": 1,
   "metadata": {},
   "outputs": [],
   "source": [
    "# example 1 : SyntaxErrors\n",
    "def function()\n",
    "  return 6 *10  "
   ]
  },
  {
   "cell_type": "code",
   "execution_count": 1,
   "metadata": {},
   "outputs": [
    {
     "ename": "IndentationError",
     "evalue": "expected an indented block (1485825147.py, line 3)",
     "output_type": "error",
     "traceback": [
      "\u001b[0;36m  Input \u001b[0;32mIn [1]\u001b[0;36m\u001b[0m\n\u001b[0;31m    return 0\u001b[0m\n\u001b[0m    ^\u001b[0m\n\u001b[0;31mIndentationError\u001b[0m\u001b[0;31m:\u001b[0m expected an indented block\n"
     ]
    }
   ],
   "source": [
    "# example 2 : IndentationErrors\n",
    "def function():\n",
    "return 0"
   ]
  },
  {
   "cell_type": "markdown",
   "metadata": {},
   "source": [
    "## Exceptions\n",
    "\n",
    "Exceptions are errors that occur when a code is executed."
   ]
  },
  {
   "cell_type": "markdown",
   "metadata": {},
   "source": [
    "### ZeroDivisionError\n",
    "\n",
    "A `ZeroDivisionError` occurs when you try to divide by zero. "
   ]
  },
  {
   "cell_type": "code",
   "execution_count": 2,
   "metadata": {},
   "outputs": [
    {
     "ename": "ZeroDivisionError",
     "evalue": "division by zero",
     "output_type": "error",
     "traceback": [
      "\u001b[0;31m---------------------------------------------------------------------------\u001b[0m",
      "\u001b[0;31mZeroDivisionError\u001b[0m                         Traceback (most recent call last)",
      "\u001b[1;32m/home/khairi/Public/Trainings/Python/Training Session/4- Exceptions/exceptions.ipynb Cell 8'\u001b[0m in \u001b[0;36m<cell line: 1>\u001b[0;34m()\u001b[0m\n\u001b[0;32m----> <a href='vscode-notebook-cell:/home/khairi/Public/Trainings/Python/Training%20Session/4-%20Exceptions/exceptions.ipynb#ch0000007?line=0'>1</a>\u001b[0m \u001b[39m0\u001b[39;49m\u001b[39m/\u001b[39;49m\u001b[39m0\u001b[39;49m\n",
      "\u001b[0;31mZeroDivisionError\u001b[0m: division by zero"
     ]
    }
   ],
   "source": [
    "0/0"
   ]
  },
  {
   "cell_type": "markdown",
   "metadata": {},
   "source": [
    "### NameError\n",
    "\n",
    "A `NameError` occurs when you try to access a name that Python does not know."
   ]
  },
  {
   "cell_type": "code",
   "execution_count": 3,
   "metadata": {},
   "outputs": [
    {
     "ename": "NameError",
     "evalue": "name 'varaible' is not defined",
     "output_type": "error",
     "traceback": [
      "\u001b[0;31m---------------------------------------------------------------------------\u001b[0m",
      "\u001b[0;31mNameError\u001b[0m                                 Traceback (most recent call last)",
      "\u001b[1;32m/home/khairi/Public/Trainings/Python/Training Session/4- Exceptions/exceptions.ipynb Cell 10'\u001b[0m in \u001b[0;36m<cell line: 2>\u001b[0;34m()\u001b[0m\n\u001b[1;32m      <a href='vscode-notebook-cell:/home/khairi/Public/Trainings/Python/Training%20Session/4-%20Exceptions/exceptions.ipynb#ch0000009?line=0'>1</a>\u001b[0m variable \u001b[39m=\u001b[39m \u001b[39m\"\u001b[39m\u001b[39m20\u001b[39m\u001b[39m\"\u001b[39m\n\u001b[0;32m----> <a href='vscode-notebook-cell:/home/khairi/Public/Trainings/Python/Training%20Session/4-%20Exceptions/exceptions.ipynb#ch0000009?line=1'>2</a>\u001b[0m \u001b[39mprint\u001b[39m(varaible)\n",
      "\u001b[0;31mNameError\u001b[0m: name 'varaible' is not defined"
     ]
    }
   ],
   "source": [
    "variable = \"20\"\n",
    "print(varaible)"
   ]
  },
  {
   "cell_type": "markdown",
   "metadata": {},
   "source": [
    "### IndexError\n",
    "\n",
    "An `IndexError` occurs when you try to access an index (in a list, string or tuple) that doesn't exist."
   ]
  },
  {
   "cell_type": "code",
   "execution_count": 4,
   "metadata": {},
   "outputs": [
    {
     "ename": "IndexError",
     "evalue": "string index out of range",
     "output_type": "error",
     "traceback": [
      "\u001b[0;31m---------------------------------------------------------------------------\u001b[0m",
      "\u001b[0;31mIndexError\u001b[0m                                Traceback (most recent call last)",
      "\u001b[1;32m/home/khairi/Public/Trainings/Python/Training Session/4- Exceptions/exceptions.ipynb Cell 12'\u001b[0m in \u001b[0;36m<cell line: 2>\u001b[0;34m()\u001b[0m\n\u001b[1;32m      <a href='vscode-notebook-cell:/home/khairi/Public/Trainings/Python/Training%20Session/4-%20Exceptions/exceptions.ipynb#ch0000013?line=0'>1</a>\u001b[0m name \u001b[39m=\u001b[39m \u001b[39m\"\u001b[39m\u001b[39mkhairi\u001b[39m\u001b[39m\"\u001b[39m\n\u001b[0;32m----> <a href='vscode-notebook-cell:/home/khairi/Public/Trainings/Python/Training%20Session/4-%20Exceptions/exceptions.ipynb#ch0000013?line=1'>2</a>\u001b[0m name[\u001b[39m20\u001b[39;49m]\n",
      "\u001b[0;31mIndexError\u001b[0m: string index out of range"
     ]
    }
   ],
   "source": [
    "name = \"khairi\"\n",
    "name[20]"
   ]
  },
  {
   "cell_type": "markdown",
   "metadata": {},
   "source": [
    "### KeyError\n",
    "\n",
    "Similarly, a `KeyError` occurs when you try to access a key's value in a dictionary that doesn't exist."
   ]
  },
  {
   "cell_type": "code",
   "execution_count": 5,
   "metadata": {},
   "outputs": [
    {
     "ename": "KeyError",
     "evalue": "'isamm'",
     "output_type": "error",
     "traceback": [
      "\u001b[0;31m---------------------------------------------------------------------------\u001b[0m",
      "\u001b[0;31mKeyError\u001b[0m                                  Traceback (most recent call last)",
      "\u001b[1;32m/home/khairi/Public/Trainings/Python/Training Session/4- Exceptions/exceptions.ipynb Cell 14'\u001b[0m in \u001b[0;36m<cell line: 2>\u001b[0;34m()\u001b[0m\n\u001b[1;32m      <a href='vscode-notebook-cell:/home/khairi/Public/Trainings/Python/Training%20Session/4-%20Exceptions/exceptions.ipynb#ch0000016?line=0'>1</a>\u001b[0m my_dictionary \u001b[39m=\u001b[39m {\u001b[39m\"\u001b[39m\u001b[39mname1\u001b[39m\u001b[39m\"\u001b[39m : \u001b[39m\"\u001b[39m\u001b[39mkhairi\u001b[39m\u001b[39m\"\u001b[39m, \u001b[39m\"\u001b[39m\u001b[39mname2\u001b[39m\u001b[39m\"\u001b[39m : \u001b[39m\"\u001b[39m\u001b[39mbata\u001b[39m\u001b[39m\"\u001b[39m}\n\u001b[0;32m----> <a href='vscode-notebook-cell:/home/khairi/Public/Trainings/Python/Training%20Session/4-%20Exceptions/exceptions.ipynb#ch0000016?line=1'>2</a>\u001b[0m my_dictionary[\u001b[39m'\u001b[39;49m\u001b[39misamm\u001b[39;49m\u001b[39m'\u001b[39;49m]\n",
      "\u001b[0;31mKeyError\u001b[0m: 'isamm'"
     ]
    }
   ],
   "source": [
    "my_dictionary = {\"name1\" : \"khairi\", \"name2\" : \"bata\"}\n",
    "my_dictionary['isamm']"
   ]
  },
  {
   "cell_type": "markdown",
   "metadata": {},
   "source": [
    "### ValueError\n",
    "\n",
    "A `ValueError` occurs when you try to use an illegal value for something."
   ]
  },
  {
   "cell_type": "code",
   "execution_count": 6,
   "metadata": {},
   "outputs": [
    {
     "ename": "ValueError",
     "evalue": "invalid literal for int() with base 10: 'hello world'",
     "output_type": "error",
     "traceback": [
      "\u001b[0;31m---------------------------------------------------------------------------\u001b[0m",
      "\u001b[0;31mValueError\u001b[0m                                Traceback (most recent call last)",
      "\u001b[1;32m/home/khairi/Public/Trainings/Python/Training Session/4- Exceptions/exceptions.ipynb Cell 16'\u001b[0m in \u001b[0;36m<cell line: 1>\u001b[0;34m()\u001b[0m\n\u001b[0;32m----> <a href='vscode-notebook-cell:/home/khairi/Public/Trainings/Python/Training%20Session/4-%20Exceptions/exceptions.ipynb#ch0000018?line=0'>1</a>\u001b[0m \u001b[39mint\u001b[39;49m(\u001b[39m\"\u001b[39;49m\u001b[39mhello world\u001b[39;49m\u001b[39m\"\u001b[39;49m)\n",
      "\u001b[0;31mValueError\u001b[0m: invalid literal for int() with base 10: 'hello world'"
     ]
    }
   ],
   "source": [
    "int(\"hello world\")"
   ]
  },
  {
   "cell_type": "markdown",
   "metadata": {},
   "source": [
    "### TypeError\n",
    "\n",
    "Finally, a `TypeError` occurs when you try to operate on a variable in a way that Python is unabe to interpret given its type."
   ]
  },
  {
   "cell_type": "code",
   "execution_count": 7,
   "metadata": {},
   "outputs": [
    {
     "ename": "TypeError",
     "evalue": "can only concatenate str (not \"int\") to str",
     "output_type": "error",
     "traceback": [
      "\u001b[0;31m---------------------------------------------------------------------------\u001b[0m",
      "\u001b[0;31mTypeError\u001b[0m                                 Traceback (most recent call last)",
      "\u001b[1;32m/home/khairi/Public/Trainings/Python/Training Session/4- Exceptions/exceptions.ipynb Cell 18'\u001b[0m in \u001b[0;36m<cell line: 1>\u001b[0;34m()\u001b[0m\n\u001b[0;32m----> <a href='vscode-notebook-cell:/home/khairi/Public/Trainings/Python/Training%20Session/4-%20Exceptions/exceptions.ipynb#ch0000020?line=0'>1</a>\u001b[0m \u001b[39m\"\u001b[39;49m\u001b[39mhello world \u001b[39;49m\u001b[39m\"\u001b[39;49m \u001b[39m+\u001b[39;49m \u001b[39m12\u001b[39;49m\n",
      "\u001b[0;31mTypeError\u001b[0m: can only concatenate str (not \"int\") to str"
     ]
    }
   ],
   "source": [
    "\"hello world \" + 12"
   ]
  },
  {
   "cell_type": "markdown",
   "metadata": {},
   "source": [
    "## Try / Except\n",
    "\n",
    "syntax : \n",
    "```python\n",
    "try:\n",
    "  # code_block_1\n",
    "except:\n",
    "  # fallback block\n",
    "```\n",
    "\n",
    "If, in attempting to execute `code_block_1`, an exeption is encountered, Python will instead execute the code in the `except` code block."
   ]
  },
  {
   "cell_type": "code",
   "execution_count": 11,
   "metadata": {},
   "outputs": [
    {
     "name": "stdout",
     "output_type": "stream",
     "text": [
      "can only concatenate str (not \"int\") to str\n",
      "hello\n"
     ]
    }
   ],
   "source": [
    "try:\n",
    "  print(\"this\" + 20)\n",
    "except Exception as e:\n",
    "  print(e)\n",
    "\n",
    "print(\"hello\")"
   ]
  },
  {
   "cell_type": "markdown",
   "metadata": {},
   "source": [
    "### Raise"
   ]
  },
  {
   "cell_type": "markdown",
   "metadata": {},
   "source": [
    "The raise keyword raises a specific exception when a condition is met or the code encounters an error."
   ]
  },
  {
   "cell_type": "code",
   "execution_count": 14,
   "metadata": {},
   "outputs": [
    {
     "ename": "Exception",
     "evalue": "age cant be negative",
     "output_type": "error",
     "traceback": [
      "\u001b[0;31m---------------------------------------------------------------------------\u001b[0m",
      "\u001b[0;31mException\u001b[0m                                 Traceback (most recent call last)",
      "\u001b[1;32m/home/khairi/Public/Trainings/Python/Training Session/4- Exceptions/exceptions.ipynb Cell 23'\u001b[0m in \u001b[0;36m<cell line: 3>\u001b[0;34m()\u001b[0m\n\u001b[1;32m      <a href='vscode-notebook-cell:/home/khairi/Public/Trainings/Python/Training%20Session/4-%20Exceptions/exceptions.ipynb#ch0000022?line=0'>1</a>\u001b[0m user_input \u001b[39m=\u001b[39m \u001b[39m-\u001b[39m\u001b[39m10\u001b[39m\n\u001b[1;32m      <a href='vscode-notebook-cell:/home/khairi/Public/Trainings/Python/Training%20Session/4-%20Exceptions/exceptions.ipynb#ch0000022?line=2'>3</a>\u001b[0m \u001b[39mif\u001b[39;00m user_input \u001b[39m<\u001b[39m \u001b[39m0\u001b[39m:\n\u001b[0;32m----> <a href='vscode-notebook-cell:/home/khairi/Public/Trainings/Python/Training%20Session/4-%20Exceptions/exceptions.ipynb#ch0000022?line=3'>4</a>\u001b[0m   \u001b[39mraise\u001b[39;00m \u001b[39mException\u001b[39;00m(\u001b[39m\"\u001b[39m\u001b[39mage cant be negative\u001b[39m\u001b[39m\"\u001b[39m)\n",
      "\u001b[0;31mException\u001b[0m: age cant be negative"
     ]
    }
   ],
   "source": [
    "user_input = -10\n",
    "\n",
    "if user_input < 0:\n",
    "  raise Exception(\"age cant be negative\")"
   ]
  }
 ],
 "metadata": {
  "kernelspec": {
   "display_name": "Python 3.8.10 64-bit",
   "language": "python",
   "name": "python3"
  },
  "language_info": {
   "codemirror_mode": {
    "name": "ipython",
    "version": 3
   },
   "file_extension": ".py",
   "mimetype": "text/x-python",
   "name": "python",
   "nbconvert_exporter": "python",
   "pygments_lexer": "ipython3",
   "version": "3.8.10"
  },
  "orig_nbformat": 4,
  "vscode": {
   "interpreter": {
    "hash": "e7370f93d1d0cde622a1f8e1c04877d8463912d04d973331ad4851f04de6915a"
   }
  }
 },
 "nbformat": 4,
 "nbformat_minor": 2
}
