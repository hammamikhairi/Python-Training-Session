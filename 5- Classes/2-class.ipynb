{
 "cells": [
  {
   "cell_type": "markdown",
   "metadata": {},
   "source": [
    "# Classes "
   ]
  },
  {
   "cell_type": "markdown",
   "metadata": {},
   "source": [
    "<b>Classes</b> define objects. We can define our own objects and their associated attributes and methods. Just as we used `def` to define functions, we'll use `class` to create your own classes of objects.\n",
    "\n",
    "Syntax to create a class : \n",
    "```python\n",
    "class ClassName():\n",
    "  #attributes\n",
    "  attr1 = True\n",
    "  attr2 = \"jump\"\n",
    "\n",
    "  #methods\n",
    "  def do_something(self):\n",
    "    print(\"something : \", self.attr2)\n",
    "\n",
    "\n",
    "```\n",
    "\n",
    "We see the method `do_something` takes an input parameter `self`. This `self` specifies that we want to operate on the current object (or the current 'instance' of the object)."
   ]
  },
  {
   "cell_type": "markdown",
   "metadata": {},
   "source": [
    "### `class` Student : \n"
   ]
  },
  {
   "cell_type": "code",
   "execution_count": null,
   "metadata": {},
   "outputs": [],
   "source": [
    "# create the Student class\n",
    "class Student():\n",
    "  attr1 = 2\n",
    "\n",
    "  def talk(self):\n",
    "    print(\"hello\")\n",
    "\n",
    "\n"
   ]
  },
  {
   "cell_type": "markdown",
   "metadata": {},
   "source": [
    "# "
   ]
  },
  {
   "cell_type": "markdown",
   "metadata": {},
   "source": [
    "Now we create an instance of our class."
   ]
  },
  {
   "cell_type": "code",
   "execution_count": null,
   "metadata": {},
   "outputs": [],
   "source": [
    "var = Student()"
   ]
  },
  {
   "cell_type": "markdown",
   "metadata": {},
   "source": [
    "# "
   ]
  },
  {
   "cell_type": "markdown",
   "metadata": {},
   "source": [
    "## Instances & `self`\n",
    "\n",
    "While referenced above, we've yet to formally define what an **instance** is. An **instance** refers to a particular instantiation of a `class` object. Every time a `class` object is executed (created), a new **instance** of that `class` object is created. \n",
    "\n",
    "To refer to the *current* instance, we use the word `self`."
   ]
  },
  {
   "cell_type": "markdown",
   "metadata": {},
   "source": [
    "### Instance Attributes\n",
    "\n",
    "So far, we have only seen how to define a **class attribute**. A **class attribute** is an attribute that *all* objects of this `class` will share. For our `Student` example, all `Student`-type objects shared the class attribute 'college'. Every Student stored 'ISAMM' in the attribute `college`.\n",
    "\n",
    "Alternatively, an instance attribute specific to the current instance of the `class` object. This allows for different instances of the `class` object to store different data in an instance attribute.\n",
    "\n",
    "To do use we use the special `__init__` method when defining instance attributes."
   ]
  },
  {
   "cell_type": "code",
   "execution_count": 15,
   "metadata": {},
   "outputs": [
    {
     "name": "stdout",
     "output_type": "stream",
     "text": [
      "khairi is sleeping\n"
     ]
    }
   ],
   "source": [
    "class Student():\n",
    "  \n",
    "  def __init__(self, name, age):\n",
    "    self.name = name\n",
    "    self.age = age\n",
    "  \n",
    "  def sleep(self):\n",
    "    print(f\"{self.name} is sleeping\")\n",
    "  \n",
    "  def __str__(self):\n",
    "    return f\"<{self.name}, {self.age}>\"\n",
    "  \n",
    "  \n",
    "  \n",
    "var = Student(\"khairi\", 20)\n",
    "var.sleep()"
   ]
  },
  {
   "cell_type": "markdown",
   "metadata": {},
   "source": [
    "With this updated `Student` class definition, we can now initialize a new instance of `Student()`:"
   ]
  },
  {
   "cell_type": "code",
   "execution_count": null,
   "metadata": {},
   "outputs": [],
   "source": []
  },
  {
   "cell_type": "markdown",
   "metadata": {},
   "source": [
    "### List and Dictionary with Class values"
   ]
  },
  {
   "cell_type": "markdown",
   "metadata": {},
   "source": [
    "#### List"
   ]
  },
  {
   "cell_type": "code",
   "execution_count": 16,
   "metadata": {},
   "outputs": [
    {
     "name": "stdout",
     "output_type": "stream",
     "text": [
      "<khairi, 20>\n",
      "<mariem, 20>\n",
      "<mahdi, 20>\n"
     ]
    }
   ],
   "source": [
    "list_of_students= [Student(\"khairi\", 20), Student(\"mariem\", 20) ,Student(\"mahdi\", 20)]\n",
    "list_of_students\n",
    "\n",
    "for student in list_of_students:\n",
    "  print(student)"
   ]
  },
  {
   "cell_type": "markdown",
   "metadata": {},
   "source": [
    "#### Dictionary"
   ]
  },
  {
   "cell_type": "markdown",
   "metadata": {},
   "source": []
  },
  {
   "cell_type": "markdown",
   "metadata": {},
   "source": [
    "# "
   ]
  },
  {
   "cell_type": "markdown",
   "metadata": {},
   "source": [
    "## Special Class Methods"
   ]
  },
  {
   "cell_type": "markdown",
   "metadata": {},
   "source": [
    "In python, we have a set of \"special\" methods we can define on a class. These methods are called `Dunder Methods`\n",
    "\n",
    "Let's make the class `PackOfDogs` and discover little by little."
   ]
  },
  {
   "cell_type": "code",
   "execution_count": null,
   "metadata": {},
   "outputs": [],
   "source": [
    "# pack of dogs class\n"
   ]
  },
  {
   "cell_type": "markdown",
   "metadata": {},
   "source": [
    "### `__str__`"
   ]
  },
  {
   "cell_type": "code",
   "execution_count": null,
   "metadata": {},
   "outputs": [],
   "source": []
  },
  {
   "cell_type": "markdown",
   "metadata": {},
   "source": [
    "### `__len__`"
   ]
  },
  {
   "cell_type": "code",
   "execution_count": null,
   "metadata": {},
   "outputs": [],
   "source": [
    "len(Student)"
   ]
  },
  {
   "cell_type": "markdown",
   "metadata": {},
   "source": [
    "### `__add__`"
   ]
  },
  {
   "cell_type": "code",
   "execution_count": null,
   "metadata": {},
   "outputs": [],
   "source": []
  },
  {
   "cell_type": "markdown",
   "metadata": {},
   "source": [
    "### `__call__`"
   ]
  },
  {
   "cell_type": "code",
   "execution_count": null,
   "metadata": {},
   "outputs": [],
   "source": []
  },
  {
   "cell_type": "markdown",
   "metadata": {},
   "source": [
    "### `__contains__`"
   ]
  },
  {
   "cell_type": "code",
   "execution_count": null,
   "metadata": {},
   "outputs": [],
   "source": []
  },
  {
   "cell_type": "markdown",
   "metadata": {},
   "source": [
    "#### Honorable mentions\n",
    "\n",
    "- `__iter__` / `__next__`\n",
    "- `__sub__` / `__mul__` / `__truediv__` / `__floordiv__`\n",
    "- `__iadd__` / `__isub__` / `__imul__` / `__itruediv__` / `__ifloordiv__`"
   ]
  }
 ],
 "metadata": {
  "kernelspec": {
   "display_name": "Python 3.8.10 64-bit",
   "language": "python",
   "name": "python3"
  },
  "language_info": {
   "codemirror_mode": {
    "name": "ipython",
    "version": 3
   },
   "file_extension": ".py",
   "mimetype": "text/x-python",
   "name": "python",
   "nbconvert_exporter": "python",
   "pygments_lexer": "ipython3",
   "version": "3.8.10"
  },
  "orig_nbformat": 4,
  "vscode": {
   "interpreter": {
    "hash": "e7370f93d1d0cde622a1f8e1c04877d8463912d04d973331ad4851f04de6915a"
   }
  }
 },
 "nbformat": 4,
 "nbformat_minor": 2
}
